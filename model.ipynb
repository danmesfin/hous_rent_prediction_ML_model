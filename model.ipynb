#importing_Libraries
import numpy as np
import pandas as pd
import matplotlib.pyplot as plt
import seaborn as sns

#load_dataset
train = pd.read_csv("sample_data/california_housing_test.csv")
test = pd.read_csv("sample_data/california_housing_train.csv")

train
test

sns.distplot(train['median_house_value'])

sns.distplot(train['median_house_value'])
data.plot.scatter(x=var, y='median_house_value', ylim = (0, 600000), s=32)

var = 'housing_median_age'
data = pd.concat([train['median_house_value'],train[var]], axis=1)

y = train.median_house_value.values
x = train.drop(['median_house_value'], axis=1)

from sklearn.preprocessing import StandardScaler
scaler = StandardScaler()

x = scaler.fit_transform(x) 

from sklearn.model_selection import train_test_split
#dataset_spliting
X_train, X_val, y_train, y_value = train_test_split(x, y, test_size=0.1, random_state=1)
X_train.shape, X_val.shape, y_train.shape, y_value.shape


from sklearn.experimental import enable_hist_gradient_boosting
from sklearn.ensemble import HistGradientBoostingRegressor

#train the model
model = HistGradientBoostingRegressor(max_iter=3000, random_state=1).fit(X_train, y_train)
print(model.score(X_train, y_train))

from sklearn.metrics import r2_score

y_pred = model.predict(X_val)
y_pred[ y_pred < 0] = 0

df_val = pd.DataFrame({'actual value': y_value, 'predicted value': y_pred})
df_val.reset_index(drop=True, inplace=True)
df_val

print(model.score(X_val, y_value)), print(r2_score(y_pred, model.predict(X_val)))
